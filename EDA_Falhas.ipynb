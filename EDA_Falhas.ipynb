{
  "cells": [
    {
      "cell_type": "markdown",
      "metadata": {
        "id": "view-in-github",
        "colab_type": "text"
      },
      "source": [
        "<a href=\"https://colab.research.google.com/github/sabrinagois/projetotera_industria/blob/main/EDA_Falhas.ipynb\" target=\"_parent\"><img src=\"https://colab.research.google.com/assets/colab-badge.svg\" alt=\"Open In Colab\"/></a>"
      ]
    },
    {
      "cell_type": "markdown",
      "id": "cc98e743",
      "metadata": {
        "id": "cc98e743"
      },
      "source": [
        "### EDA dos dados de falhas\n",
        "\n",
        "#### Objetivo: criar modelo de classificação, variável target TX_GRAVIDADE"
      ]
    },
    {
      "cell_type": "code",
      "execution_count": null,
      "id": "5440080d",
      "metadata": {
        "id": "5440080d"
      },
      "outputs": [],
      "source": [
        "# Carregando alguns módulos essenciais para trabalharmos os dados\n",
        "\n",
        "import warnings\n",
        "warnings.filterwarnings('ignore')\n",
        "\n",
        "import pandas as pd\n",
        "import numpy as np\n",
        "import scipy.stats as st\n",
        "import math\n",
        "import matplotlib.pyplot as plt\n",
        "%matplotlib inline\n",
        "import seaborn as sns\n",
        "\n",
        "\n",
        "# Algumas opções do Pandas boas para vermos muitas linhas e colunas de uma vez\n",
        "pd.options.display.max_rows = 999\n",
        "pd.options.display.max_columns = 999"
      ]
    },
    {
      "cell_type": "code",
      "execution_count": null,
      "id": "75b2cd15",
      "metadata": {
        "id": "75b2cd15"
      },
      "outputs": [],
      "source": [
        "#Importando os dados\n",
        "df_raw = pd.read_csv('tera.csv',\n",
        "                       sep = \";\",\n",
        "                       header = 0,\n",
        "                       index_col = False)"
      ]
    },
    {
      "cell_type": "code",
      "execution_count": null,
      "id": "7f2d112d",
      "metadata": {
        "id": "7f2d112d",
        "outputId": "b352241f-b60b-4957-88d0-fd66c82dc9de"
      },
      "outputs": [
        {
          "data": {
            "text/html": [
              "<div>\n",
              "<style scoped>\n",
              "    .dataframe tbody tr th:only-of-type {\n",
              "        vertical-align: middle;\n",
              "    }\n",
              "\n",
              "    .dataframe tbody tr th {\n",
              "        vertical-align: top;\n",
              "    }\n",
              "\n",
              "    .dataframe thead th {\n",
              "        text-align: right;\n",
              "    }\n",
              "</style>\n",
              "<table border=\"1\" class=\"dataframe\">\n",
              "  <thead>\n",
              "    <tr style=\"text-align: right;\">\n",
              "      <th></th>\n",
              "      <th>COD_AREA</th>\n",
              "      <th>DT_CRIACAO</th>\n",
              "      <th>DT_ENCERRAMENTO</th>\n",
              "      <th>DT_ENVIADO_AVALIACAO</th>\n",
              "      <th>ID_TIPO</th>\n",
              "      <th>ID_SUBTIPO</th>\n",
              "      <th>FL_ACIDENTE_TRAJETO</th>\n",
              "      <th>FL_CLASSIFICACAO</th>\n",
              "      <th>FL_HORA_EXTRA</th>\n",
              "      <th>FL_PARADA</th>\n",
              "      <th>FL_PERDA_MATERIAL</th>\n",
              "      <th>FL_ROTINA</th>\n",
              "      <th>FL_ROTINA.1</th>\n",
              "      <th>ID_CONDICOES_METEOROLOGICAS</th>\n",
              "      <th>FL_TRAB_RESTRITO</th>\n",
              "      <th>TX_IDENTIFICACAO</th>\n",
              "      <th>ID_CATEGORIA_FALHA</th>\n",
              "      <th>ID_CATEGORIA_FALHA.1</th>\n",
              "      <th>ID_TIPO_CONTATO</th>\n",
              "      <th>ID_TIPO_PERDA</th>\n",
              "      <th>ID_TEMPO_EMPRESA</th>\n",
              "      <th>ID_TEMPERATURA_AMBIENTE</th>\n",
              "      <th>TX_GRAVIDADE</th>\n",
              "    </tr>\n",
              "  </thead>\n",
              "  <tbody>\n",
              "    <tr>\n",
              "      <th>0</th>\n",
              "      <td>BC00023</td>\n",
              "      <td>2017-01-01 01:01:46.887</td>\n",
              "      <td>2017-01-03 07:49:41.753</td>\n",
              "      <td>2017-01-01 01:01:47.073</td>\n",
              "      <td>79</td>\n",
              "      <td>119</td>\n",
              "      <td>NaN</td>\n",
              "      <td>NaN</td>\n",
              "      <td>0.0</td>\n",
              "      <td>0.0</td>\n",
              "      <td>NaN</td>\n",
              "      <td>1.0</td>\n",
              "      <td>1.0</td>\n",
              "      <td>NaN</td>\n",
              "      <td>NaN</td>\n",
              "      <td>P</td>\n",
              "      <td>NaN</td>\n",
              "      <td>NaN</td>\n",
              "      <td>NaN</td>\n",
              "      <td>NaN</td>\n",
              "      <td>NaN</td>\n",
              "      <td>NaN</td>\n",
              "      <td>C</td>\n",
              "    </tr>\n",
              "    <tr>\n",
              "      <th>1</th>\n",
              "      <td>BC00023</td>\n",
              "      <td>2017-01-01 08:20:19.890</td>\n",
              "      <td>2017-01-03 07:48:10.680</td>\n",
              "      <td>2017-01-01 08:20:20.077</td>\n",
              "      <td>79</td>\n",
              "      <td>119</td>\n",
              "      <td>NaN</td>\n",
              "      <td>NaN</td>\n",
              "      <td>0.0</td>\n",
              "      <td>0.0</td>\n",
              "      <td>NaN</td>\n",
              "      <td>1.0</td>\n",
              "      <td>1.0</td>\n",
              "      <td>NaN</td>\n",
              "      <td>NaN</td>\n",
              "      <td>P</td>\n",
              "      <td>NaN</td>\n",
              "      <td>NaN</td>\n",
              "      <td>NaN</td>\n",
              "      <td>NaN</td>\n",
              "      <td>NaN</td>\n",
              "      <td>NaN</td>\n",
              "      <td>C</td>\n",
              "    </tr>\n",
              "    <tr>\n",
              "      <th>2</th>\n",
              "      <td>ACM02605</td>\n",
              "      <td>2017-01-01 08:53:52.683</td>\n",
              "      <td>2017-01-09 22:05:36.707</td>\n",
              "      <td>2017-01-01 08:53:52.870</td>\n",
              "      <td>79</td>\n",
              "      <td>119</td>\n",
              "      <td>NaN</td>\n",
              "      <td>NaN</td>\n",
              "      <td>0.0</td>\n",
              "      <td>0.0</td>\n",
              "      <td>NaN</td>\n",
              "      <td>1.0</td>\n",
              "      <td>1.0</td>\n",
              "      <td>NaN</td>\n",
              "      <td>NaN</td>\n",
              "      <td>P</td>\n",
              "      <td>NaN</td>\n",
              "      <td>NaN</td>\n",
              "      <td>NaN</td>\n",
              "      <td>NaN</td>\n",
              "      <td>NaN</td>\n",
              "      <td>NaN</td>\n",
              "      <td>C</td>\n",
              "    </tr>\n",
              "    <tr>\n",
              "      <th>3</th>\n",
              "      <td>BC00023</td>\n",
              "      <td>2017-01-01 09:03:49.970</td>\n",
              "      <td>2017-01-03 07:46:59.747</td>\n",
              "      <td>2017-01-01 09:03:50.160</td>\n",
              "      <td>79</td>\n",
              "      <td>119</td>\n",
              "      <td>NaN</td>\n",
              "      <td>NaN</td>\n",
              "      <td>0.0</td>\n",
              "      <td>0.0</td>\n",
              "      <td>NaN</td>\n",
              "      <td>0.0</td>\n",
              "      <td>0.0</td>\n",
              "      <td>NaN</td>\n",
              "      <td>NaN</td>\n",
              "      <td>P</td>\n",
              "      <td>NaN</td>\n",
              "      <td>NaN</td>\n",
              "      <td>NaN</td>\n",
              "      <td>NaN</td>\n",
              "      <td>NaN</td>\n",
              "      <td>NaN</td>\n",
              "      <td>C</td>\n",
              "    </tr>\n",
              "    <tr>\n",
              "      <th>4</th>\n",
              "      <td>ACM02605</td>\n",
              "      <td>2017-01-01 09:06:24.910</td>\n",
              "      <td>2017-09-23 15:52:23.150</td>\n",
              "      <td>2017-01-01 09:06:25.097</td>\n",
              "      <td>79</td>\n",
              "      <td>119</td>\n",
              "      <td>NaN</td>\n",
              "      <td>NaN</td>\n",
              "      <td>0.0</td>\n",
              "      <td>0.0</td>\n",
              "      <td>NaN</td>\n",
              "      <td>1.0</td>\n",
              "      <td>1.0</td>\n",
              "      <td>NaN</td>\n",
              "      <td>NaN</td>\n",
              "      <td>P</td>\n",
              "      <td>NaN</td>\n",
              "      <td>NaN</td>\n",
              "      <td>NaN</td>\n",
              "      <td>NaN</td>\n",
              "      <td>NaN</td>\n",
              "      <td>NaN</td>\n",
              "      <td>B</td>\n",
              "    </tr>\n",
              "  </tbody>\n",
              "</table>\n",
              "</div>"
            ],
            "text/plain": [
              "   COD_AREA               DT_CRIACAO          DT_ENCERRAMENTO  \\\n",
              "0   BC00023  2017-01-01 01:01:46.887  2017-01-03 07:49:41.753   \n",
              "1   BC00023  2017-01-01 08:20:19.890  2017-01-03 07:48:10.680   \n",
              "2  ACM02605  2017-01-01 08:53:52.683  2017-01-09 22:05:36.707   \n",
              "3   BC00023  2017-01-01 09:03:49.970  2017-01-03 07:46:59.747   \n",
              "4  ACM02605  2017-01-01 09:06:24.910  2017-09-23 15:52:23.150   \n",
              "\n",
              "      DT_ENVIADO_AVALIACAO  ID_TIPO  ID_SUBTIPO  FL_ACIDENTE_TRAJETO  \\\n",
              "0  2017-01-01 01:01:47.073       79         119                  NaN   \n",
              "1  2017-01-01 08:20:20.077       79         119                  NaN   \n",
              "2  2017-01-01 08:53:52.870       79         119                  NaN   \n",
              "3  2017-01-01 09:03:50.160       79         119                  NaN   \n",
              "4  2017-01-01 09:06:25.097       79         119                  NaN   \n",
              "\n",
              "  FL_CLASSIFICACAO  FL_HORA_EXTRA  FL_PARADA  FL_PERDA_MATERIAL  FL_ROTINA  \\\n",
              "0              NaN            0.0        0.0                NaN        1.0   \n",
              "1              NaN            0.0        0.0                NaN        1.0   \n",
              "2              NaN            0.0        0.0                NaN        1.0   \n",
              "3              NaN            0.0        0.0                NaN        0.0   \n",
              "4              NaN            0.0        0.0                NaN        1.0   \n",
              "\n",
              "   FL_ROTINA.1  ID_CONDICOES_METEOROLOGICAS  FL_TRAB_RESTRITO  \\\n",
              "0          1.0                          NaN               NaN   \n",
              "1          1.0                          NaN               NaN   \n",
              "2          1.0                          NaN               NaN   \n",
              "3          0.0                          NaN               NaN   \n",
              "4          1.0                          NaN               NaN   \n",
              "\n",
              "  TX_IDENTIFICACAO  ID_CATEGORIA_FALHA  ID_CATEGORIA_FALHA.1  ID_TIPO_CONTATO  \\\n",
              "0                P                 NaN                   NaN              NaN   \n",
              "1                P                 NaN                   NaN              NaN   \n",
              "2                P                 NaN                   NaN              NaN   \n",
              "3                P                 NaN                   NaN              NaN   \n",
              "4                P                 NaN                   NaN              NaN   \n",
              "\n",
              "   ID_TIPO_PERDA  ID_TEMPO_EMPRESA  ID_TEMPERATURA_AMBIENTE TX_GRAVIDADE  \n",
              "0            NaN               NaN                      NaN            C  \n",
              "1            NaN               NaN                      NaN            C  \n",
              "2            NaN               NaN                      NaN            C  \n",
              "3            NaN               NaN                      NaN            C  \n",
              "4            NaN               NaN                      NaN            B  "
            ]
          },
          "execution_count": 3,
          "metadata": {},
          "output_type": "execute_result"
        }
      ],
      "source": [
        "#Verificando os dados importados\n",
        "df_raw.head()"
      ]
    },
    {
      "cell_type": "code",
      "execution_count": null,
      "id": "37379c27",
      "metadata": {
        "id": "37379c27",
        "outputId": "3e7af6b0-9a3d-4c3d-d197-dab1dc499d8a"
      },
      "outputs": [
        {
          "name": "stdout",
          "output_type": "stream",
          "text": [
            "<class 'pandas.core.frame.DataFrame'>\n",
            "RangeIndex: 5000 entries, 0 to 4999\n",
            "Data columns (total 23 columns):\n",
            " #   Column                       Non-Null Count  Dtype  \n",
            "---  ------                       --------------  -----  \n",
            " 0   COD_AREA                     5000 non-null   object \n",
            " 1   DT_CRIACAO                   5000 non-null   object \n",
            " 2   DT_ENCERRAMENTO              4999 non-null   object \n",
            " 3   DT_ENVIADO_AVALIACAO         5000 non-null   object \n",
            " 4   ID_TIPO                      5000 non-null   int64  \n",
            " 5   ID_SUBTIPO                   5000 non-null   int64  \n",
            " 6   FL_ACIDENTE_TRAJETO          21 non-null     float64\n",
            " 7   FL_CLASSIFICACAO             25 non-null     object \n",
            " 8   FL_HORA_EXTRA                4984 non-null   float64\n",
            " 9   FL_PARADA                    4984 non-null   float64\n",
            " 10  FL_PERDA_MATERIAL            25 non-null     float64\n",
            " 11  FL_ROTINA                    4984 non-null   float64\n",
            " 12  FL_ROTINA.1                  4984 non-null   float64\n",
            " 13  ID_CONDICOES_METEOROLOGICAS  111 non-null    float64\n",
            " 14  FL_TRAB_RESTRITO             3 non-null      float64\n",
            " 15  TX_IDENTIFICACAO             5000 non-null   object \n",
            " 16  ID_CATEGORIA_FALHA           368 non-null    float64\n",
            " 17  ID_CATEGORIA_FALHA.1         368 non-null    float64\n",
            " 18  ID_TIPO_CONTATO              322 non-null    float64\n",
            " 19  ID_TIPO_PERDA                0 non-null      float64\n",
            " 20  ID_TEMPO_EMPRESA             25 non-null     float64\n",
            " 21  ID_TEMPERATURA_AMBIENTE      131 non-null    float64\n",
            " 22  TX_GRAVIDADE                 5000 non-null   object \n",
            "dtypes: float64(14), int64(2), object(7)\n",
            "memory usage: 898.6+ KB\n"
          ]
        }
      ],
      "source": [
        "#Verificando os dados importados\n",
        "df_raw.info()"
      ]
    },
    {
      "cell_type": "code",
      "execution_count": null,
      "id": "0d497e7b",
      "metadata": {
        "id": "0d497e7b"
      },
      "outputs": [],
      "source": [
        "#Criando uma cópia do dataframe original para trabalhar\n",
        "df_falhas = df_raw.copy()"
      ]
    },
    {
      "cell_type": "code",
      "execution_count": null,
      "id": "fa484bb5",
      "metadata": {
        "id": "fa484bb5"
      },
      "outputs": [],
      "source": [
        "#Transformando o formato das colunas de data\n",
        "df_falhas['DT_CRIACAO'] = pd.to_datetime(df_falhas['DT_CRIACAO'])\n",
        "df_falhas['DT_ENCERRAMENTO'] = pd.to_datetime(df_falhas['DT_ENCERRAMENTO'])\n",
        "df_falhas['DT_ENVIADO_AVALIACAO'] = pd.to_datetime(df_falhas['DT_ENVIADO_AVALIACAO'])"
      ]
    },
    {
      "cell_type": "code",
      "execution_count": null,
      "id": "55c0a105",
      "metadata": {
        "id": "55c0a105",
        "outputId": "5caaa962-cbe7-4037-8d1e-72c943334491"
      },
      "outputs": [
        {
          "data": {
            "text/plain": [
              "Index(['COD_AREA', 'DT_CRIACAO', 'DT_ENCERRAMENTO', 'DT_ENVIADO_AVALIACAO',\n",
              "       'ID_TIPO', 'ID_SUBTIPO', 'FL_ACIDENTE_TRAJETO', 'FL_CLASSIFICACAO',\n",
              "       'FL_HORA_EXTRA', 'FL_PARADA', 'FL_PERDA_MATERIAL', 'FL_ROTINA',\n",
              "       'FL_ROTINA.1', 'ID_CONDICOES_METEOROLOGICAS', 'FL_TRAB_RESTRITO',\n",
              "       'TX_IDENTIFICACAO', 'ID_CATEGORIA_FALHA', 'ID_CATEGORIA_FALHA.1',\n",
              "       'ID_TIPO_CONTATO', 'ID_TIPO_PERDA', 'ID_TEMPO_EMPRESA',\n",
              "       'ID_TEMPERATURA_AMBIENTE', 'TX_GRAVIDADE'],\n",
              "      dtype='object')"
            ]
          },
          "execution_count": 8,
          "metadata": {},
          "output_type": "execute_result"
        }
      ],
      "source": [
        "#Relacionando os nomes de todas as features\n",
        "df_falhas.columns"
      ]
    },
    {
      "cell_type": "code",
      "execution_count": null,
      "id": "8089c870",
      "metadata": {
        "id": "8089c870"
      },
      "outputs": [],
      "source": [
        "#Todas as variáveis, com exceção das datas, são categóricas\n",
        "vars_dt = ['DT_CRIACAO', 'DT_ENCERRAMENTO', 'DT_ENVIADO_AVALIACAO']\n",
        "vars_categ = ['COD_AREA', 'ID_TIPO', 'ID_SUBTIPO', 'FL_ACIDENTE_TRAJETO', 'FL_CLASSIFICACAO',\n",
        "       'FL_HORA_EXTRA', 'FL_PARADA', 'FL_PERDA_MATERIAL', 'FL_ROTINA',\n",
        "       'FL_ROTINA.1', 'ID_CONDICOES_METEOROLOGICAS', 'FL_TRAB_RESTRITO',\n",
        "       'TX_IDENTIFICACAO', 'ID_CATEGORIA_FALHA', 'ID_CATEGORIA_FALHA.1',\n",
        "       'ID_TIPO_CONTATO', 'ID_TIPO_PERDA', 'ID_TEMPO_EMPRESA',\n",
        "       'ID_TEMPERATURA_AMBIENTE', 'TX_GRAVIDADE']\n",
        "var_target = 'TX_GRAVIDADE'\n"
      ]
    },
    {
      "cell_type": "code",
      "execution_count": null,
      "id": "530545a1",
      "metadata": {
        "id": "530545a1",
        "outputId": "2b4e99ab-bb77-4b8b-817a-01c949e12fb9"
      },
      "outputs": [
        {
          "data": {
            "text/plain": [
              "COD_AREA                       304\n",
              "ID_TIPO_CONTATO                  9\n",
              "ID_SUBTIPO                       8\n",
              "ID_TEMPO_EMPRESA                 7\n",
              "ID_TEMPERATURA_AMBIENTE          6\n",
              "ID_CONDICOES_METEOROLOGICAS      6\n",
              "ID_CATEGORIA_FALHA               5\n",
              "ID_CATEGORIA_FALHA.1             5\n",
              "FL_CLASSIFICACAO                 3\n",
              "TX_GRAVIDADE                     3\n",
              "FL_PARADA                        2\n",
              "FL_ROTINA                        2\n",
              "FL_ROTINA.1                      2\n",
              "ID_TIPO                          2\n",
              "TX_IDENTIFICACAO                 2\n",
              "FL_HORA_EXTRA                    2\n",
              "FL_ACIDENTE_TRAJETO              2\n",
              "FL_PERDA_MATERIAL                1\n",
              "FL_TRAB_RESTRITO                 1\n",
              "ID_TIPO_PERDA                    0\n",
              "dtype: int64"
            ]
          },
          "execution_count": 73,
          "metadata": {},
          "output_type": "execute_result"
        }
      ],
      "source": [
        "#Verificando a cardinalidades das variáveis categóricas\n",
        "df_falhas[vars_categ].nunique().sort_values(ascending=False)"
      ]
    },
    {
      "cell_type": "code",
      "execution_count": null,
      "id": "fff89471",
      "metadata": {
        "id": "fff89471",
        "outputId": "7887ea00-e515-44dc-e77a-96a0b75efe2c"
      },
      "outputs": [
        {
          "name": "stdout",
          "output_type": "stream",
          "text": [
            "DT_CRIACAO - de 01-01-2017 a 21-02-2017\n",
            "DT_ENCERRAMENTO - de 01-01-2017 a 07-05-2021\n",
            "DT_ENVIADO_AVALIACAO - de 01-01-2017 a 04-05-2019\n"
          ]
        }
      ],
      "source": [
        "#Verificando o range das variáveis data\n",
        "for dt in vars_dt:\n",
        "    print(f\"{dt} - de {min(df_falhas[dt]).strftime('%d-%m-%Y')} a {max(df_falhas[dt]).strftime('%d-%m-%Y')}\")"
      ]
    },
    {
      "cell_type": "code",
      "execution_count": null,
      "id": "7cee8a72",
      "metadata": {
        "id": "7cee8a72",
        "outputId": "2e68baa7-3997-4e28-9e21-45c746c8e5bd"
      },
      "outputs": [
        {
          "data": {
            "image/png": "[encoded data removed]",
            "text/plain": [
              "<Figure size 432x288 with 1 Axes>"
            ]
          },
          "metadata": {},
          "output_type": "display_data"
        },
        {
          "name": "stdout",
          "output_type": "stream",
          "text": [
            " Taxa de Gravidade C - 4818 ocorrências - 96.36%\n",
            " Taxa de Gravidade B - 142 ocorrências - 2.84%\n",
            " Taxa de Gravidade A - 40 ocorrências - 0.8%\n"
          ]
        }
      ],
      "source": [
        "#Distribuição das TX_GRAVIDADE\n",
        "\n",
        "lista_labels = list()\n",
        "lista_count = list()\n",
        "for tx in df_falhas[var_target].unique():\n",
        "    lista_labels.append(tx)\n",
        "    lista_count.append(df_falhas[var_target][df_falhas[var_target] == tx].count())\n",
        "\n",
        "fig1, ax1 = plt.subplots()\n",
        "ax1.pie(lista_count, labels=lista_labels, shadow=True, startangle=90)\n",
        "ax1.axis('equal')  # Equal aspect ratio ensures that pie is drawn as a circle.\n",
        "\n",
        "plt.show()\n",
        "for tx in df_falhas[var_target].unique():\n",
        "    print(f\" Taxa de Gravidade {tx} - {df_falhas[var_target][df_falhas[var_target] == tx].count()} ocorrências - {100*df_falhas[var_target][df_falhas[var_target] == tx].count()/len(df_falhas)}%\")"
      ]
    },
    {
      "cell_type": "code",
      "execution_count": null,
      "id": "e7449f47",
      "metadata": {
        "id": "e7449f47",
        "outputId": "ad879428-4990-44ce-e35b-afd1f3561ad9"
      },
      "outputs": [
        {
          "data": {
            "text/plain": [
              "COD_AREA         TX_GRAVIDADE\n",
              "ACM01064E        C                24\n",
              "ACM01067         C                14\n",
              "ACM01068         C                 8\n",
              "ACM01101         A                 1\n",
              "ACM01101a2       C                 1\n",
              "ACM01103c        B                 1\n",
              "                 C                20\n",
              "ACM01103d        C                 8\n",
              "ACM01104         C                 5\n",
              "ACM01105         C                15\n",
              "ACM01106         B                 2\n",
              "                 C                 4\n",
              "ACM02053         C                17\n",
              "ACM02054         C                60\n",
              "ACM02101         C                20\n",
              "ACM02103         C                 2\n",
              "ACM02106         C                12\n",
              "ACM02109A        C                 4\n",
              "ACM02109C        C                49\n",
              "ACM02110c        C                 1\n",
              "ACM02112         C                 1\n",
              "ACM02113         C                 9\n",
              "ACM02116a1       A                 1\n",
              "                 C                22\n",
              "ACM02118a        C               111\n",
              "ACM02124D        C                 2\n",
              "ACM02138         A                 1\n",
              "                 C                 1\n",
              "ACM02551         B                 2\n",
              "                 C                 1\n",
              "ACM02553         A                 1\n",
              "                 C                 2\n",
              "ACM02554         C                 2\n",
              "ACM02554a        A                 1\n",
              "ACM02555         A                 6\n",
              "                 C                52\n",
              "ACM02555a        A                 1\n",
              "                 C                13\n",
              "ACM02555b        B                 1\n",
              "                 C                38\n",
              "ACM02556         C                16\n",
              "ACM02557         C                 3\n",
              "ACM02603         C                37\n",
              "ACM02605         A                 1\n",
              "                 B                 1\n",
              "                 C                31\n",
              "ACM02605A        B                 1\n",
              "                 C                12\n",
              "ACM02607         A                 1\n",
              "ACM02653         C                24\n",
              "ACM02654         C               118\n",
              "ACM02654a        C                 1\n",
              "ACM02656         C                32\n",
              "ACM02657         C                28\n",
              "ACM02658         C                57\n",
              "ACM02659         C               242\n",
              "ACM02661         A                 1\n",
              "                 C               146\n",
              "ACM02664         C                 2\n",
              "ACM02666         C                10\n",
              "ACM02666AA       C                77\n",
              "ACM02667         C                16\n",
              "ACM02667a        C                12\n",
              "ACM02753         A                 1\n",
              "ACM02754         C                 1\n",
              "ACM02757         B                 1\n",
              "ACM02805         C                 2\n",
              "ACM02811         A                 1\n",
              "ACM02812         A                 1\n",
              "ACM02854         C                18\n",
              "ACM02876         C                 1\n",
              "ACM02877         B                 1\n",
              "                 C                 4\n",
              "ACM02884         C                 2\n",
              "ACM02892         B                 1\n",
              "                 C                38\n",
              "ACM02893         C                 2\n",
              "ACM02895         A                 1\n",
              "                 C                11\n",
              "ACM02897         C                 1\n",
              "ACM02901         A                 1\n",
              "                 B                 1\n",
              "                 C                15\n",
              "ACM02903         C                 8\n",
              "ACM02943         C                 8\n",
              "ACM02950         A                 1\n",
              "                 B                 1\n",
              "                 C                13\n",
              "ACM02955         C                 2\n",
              "ACM02960         C                 1\n",
              "ACM02962         C                 3\n",
              "ACM02963         B                 2\n",
              "                 C                10\n",
              "ACM02963A        C                 9\n",
              "ACM02963B        A                 2\n",
              "                 C                18\n",
              "ACM02964         C                 4\n",
              "ACM02964B        A                 1\n",
              "                 C                 3\n",
              "ACM02964C        C                 2\n",
              "ACM02964C1       B                 1\n",
              "                 C                47\n",
              "ACM02964E        C                 1\n",
              "ACM02964F        C                 3\n",
              "ACM02980c        B                 1\n",
              "                 C                 1\n",
              "ACM02982         C                 2\n",
              "ACM02982A        C                18\n",
              "ACM02983         C                29\n",
              "ACM02984         A                 1\n",
              "                 C                 1\n",
              "ACM02990B        C                16\n",
              "ACM03333         C                 2\n",
              "ACM03334         C                 1\n",
              "ACMO2666AAA      C                68\n",
              "AEB00022         C                12\n",
              "AEB00024         C                15\n",
              "AEB00033         C                12\n",
              "AEB00039         C                 1\n",
              "AEB00051         C                27\n",
              "AEB00070         C                 1\n",
              "AEB00071         C                10\n",
              "AEB00073         C                25\n",
              "AEB00074         B                 1\n",
              "                 C                 6\n",
              "AEB00075         C                24\n",
              "AEB00076         B                44\n",
              "                 C                 7\n",
              "AEB00078         C                 5\n",
              "AEB00090         C                17\n",
              "AEB00091         C                17\n",
              "AEB00102         C                 9\n",
              "AEB00114         C                 1\n",
              "AEB00121         C                10\n",
              "AEB00126         C                22\n",
              "AEB00134         C                 2\n",
              "AEB00150         B                 1\n",
              "                 C                28\n",
              "AEB00189         C                25\n",
              "AEB00201         C                30\n",
              "AEB00206         C                 1\n",
              "AEB00213         C                 3\n",
              "AEB00214         C                 4\n",
              "AEB00215         B                 2\n",
              "                 C                42\n",
              "AEB00216         B                44\n",
              "                 C                62\n",
              "AEB00218         C                39\n",
              "AEB00219         C                44\n",
              "AEB00220         C                57\n",
              "AEB00221         C                17\n",
              "AEB00222         C                17\n",
              "AEB00223         C                10\n",
              "AEB00227         C                10\n",
              "AEB00232         C                64\n",
              "AEB00234         B                 1\n",
              "                 C                 1\n",
              "AEB00271         A                 1\n",
              "                 C                22\n",
              "AEB00276         C                44\n",
              "AEB00280         C                19\n",
              "AEB00283         C                 3\n",
              "AEB00284         C                11\n",
              "AEB00285         B                 1\n",
              "                 C                23\n",
              "AEB00290         B                 1\n",
              "                 C                12\n",
              "AEB00292         C                31\n",
              "AEB00294         B                 9\n",
              "                 C                29\n",
              "AEB00306         C                 2\n",
              "AEB00313         C                 8\n",
              "AEB00318         B                 1\n",
              "                 C                45\n",
              "AEB00321         C                 8\n",
              "AEB00325         C                 4\n",
              "AEB00340         C                 1\n",
              "AEB00370         C                49\n",
              "AEB00371         C                68\n",
              "AEB00406         B                 1\n",
              "                 C                18\n",
              "AEB00414         C                30\n",
              "AEB00421         C                 5\n",
              "AEB00422         C                 1\n",
              "AEB00424         B                 1\n",
              "                 C                 6\n",
              "AEB00428         C                 5\n",
              "AEB00430         C                19\n",
              "AEB00431         C                 1\n",
              "AEB00432         C                97\n",
              "AEB00436         C                 5\n",
              "AEB00451         B                 3\n",
              "                 C                68\n",
              "AEB00472         C                 1\n",
              "AEB00501         C                 2\n",
              "AEB00502         C                24\n",
              "AEB00504         C                 2\n",
              "AEB00505         C                27\n",
              "AEB00507         C                14\n",
              "AEB00508         C                 1\n",
              "AEB00509         C                 7\n",
              "AEB00518         C                 1\n",
              "AEB00520         C                17\n",
              "AEB00604         C                 5\n",
              "AEB00631         C                49\n",
              "AEB00632         C                14\n",
              "AEB00633         C                32\n",
              "AEB00639         C                 2\n",
              "AEB00640         C                21\n",
              "AEB00643         C                 7\n",
              "AEB00644         C                 4\n",
              "AEB00645         C                28\n",
              "AEB00646         C                 1\n",
              "AEB00647         B                 1\n",
              "AEB00648         C                 1\n",
              "AEB00649         C                 1\n",
              "AEB00651         C                 9\n",
              "AEB00654         C                24\n",
              "AEB00655         C                 1\n",
              "AEB00663         B                 4\n",
              "                 C                51\n",
              "AEB00664         C                21\n",
              "AEB00665         C                11\n",
              "AEB00666         C                 7\n",
              "AEB00669         C                 5\n",
              "AEB00670         C                18\n",
              "AEB00701         C                 2\n",
              "AEB01000         C                 2\n",
              "AFP00003         C                26\n",
              "AFP00004         C                 2\n",
              "AFP00005         C                 3\n",
              "AFP00006         C                 3\n",
              "AFP000152        C                11\n",
              "AFP00017         C                 3\n",
              "AFP00024         C                 8\n",
              "AFP00028         C                 1\n",
              "AFP00032         C                 2\n",
              "AFP00033         C                 4\n",
              "AFP00035         B                 2\n",
              "                 C                 3\n",
              "AFP00037         C                 1\n",
              "AFP00043         C                 6\n",
              "AFP00052         C                 4\n",
              "AFP00061         C                44\n",
              "AFP00084         C                10\n",
              "AFP00085         C                 5\n",
              "AFP00086         C                 1\n",
              "AFP00097         C                34\n",
              "AFP00104         C                48\n",
              "AFP00121         B                 1\n",
              "                 C                12\n",
              "AFP00123         C                11\n",
              "AFP00137         C                 1\n",
              "AFP001440        C                 4\n",
              "AFP00161         C                 8\n",
              "AFP00168         C                 6\n",
              "AFP00199         C                 1\n",
              "AFP00211         C                 1\n",
              "AN00001          C                 3\n",
              "AN00012          A                 1\n",
              "AN00016          C                 1\n",
              "AN00041          B                 2\n",
              "                 C                 1\n",
              "AN00042          C                 1\n",
              "AN00063          C                 1\n",
              "AN00124          C                 1\n",
              "BC - Obra Civil  C                 1\n",
              "BC - Oficina     C                53\n",
              "BC-00041         C                 1\n",
              "BC-MEPI          C                24\n",
              "BC00001          C                 6\n",
              "BC000030         C                 1\n",
              "BC00004          C                 5\n",
              "BC00012          C                 8\n",
              "BC00013          C                12\n",
              "BC00014          C                13\n",
              "BC00015          C                27\n",
              "BC00016          C                15\n",
              "BC00017          C                10\n",
              "BC00018          C                 2\n",
              "BC00019          C                 3\n",
              "BC00020          C               163\n",
              "BC00021          B                 1\n",
              "                 C                18\n",
              "BC00022          C                 7\n",
              "BC00023          C               175\n",
              "BC00024          C               121\n",
              "BC00025          C                54\n",
              "BC00026          A                 1\n",
              "                 C                30\n",
              "BC00027          C                14\n",
              "BC00028          C                 7\n",
              "BC00029          C                25\n",
              "BC00030          C                42\n",
              "BC00031          C                57\n",
              "BC00032          C                29\n",
              "BC00038          C                 9\n",
              "BC00040          C                 1\n",
              "CSG00027         C                 1\n",
              "CSG00032         C                 7\n",
              "CSG00034         C                 1\n",
              "CSG00050         C                 1\n",
              "CSG00058         C                 2\n",
              "CSG00109         C                 1\n",
              "CSG00143         C                 1\n",
              "CSG00276         A                 1\n",
              "                 C                 1\n",
              "CSG00303         A                 2\n",
              "DIV00001         A                 2\n",
              "                 B                 1\n",
              "DIV00002         C                 2\n",
              "DIV00012         C                 1\n",
              "DIV00025         C                 2\n",
              "DIV00027         C                 1\n",
              "DIV00047         C                 1\n",
              "DIV00049         C                 3\n",
              "GG00013          C                 9\n",
              "GSEL00003        C                 2\n",
              "GSEL00004        C                 2\n",
              "GSEL00005        C                 1\n",
              "GSP00022         C                 6\n",
              "GSP00029         A                 1\n",
              "GSP00050         C                 1\n",
              "LOG00017         C                 1\n",
              "LOG00018         C                 4\n",
              "LOG00019         C                44\n",
              "LOG00021         C                 6\n",
              "LOG00023         C                 1\n",
              "LOG00056         C                 1\n",
              "LOG00060         A                 1\n",
              "SC00007          A                 1\n",
              "                 C                 3\n",
              "SC00013          C                 1\n",
              "SC00016          C                 3\n",
              "SC00031          B                 1\n",
              "                 C                 1\n",
              "SG00149          C                 1\n",
              "SJC00001         C                 1\n",
              "SJC00013         C                 1\n",
              "SJC00027         C                 1\n",
              "SJC00126         A                 1\n",
              "SR00001          C                 1\n",
              "SR00028          A                 1\n",
              "SR00032          B                 1\n",
              "SR00037          C                 1\n",
              "SR00043          C                 1\n",
              "SR00048          C                 1\n",
              "SR00057          A                 1\n",
              "SR00059          A                 1\n",
              "SR00061          C                 1\n",
              "aeb00609         C                 3\n",
              "aeb00656         C                13\n",
              "aeb00657         C                 3\n",
              "aeb00658         B                 1\n",
              "                 C                 5\n",
              "Name: DT_CRIACAO, dtype: int64"
            ]
          },
          "execution_count": 56,
          "metadata": {},
          "output_type": "execute_result"
        }
      ],
      "source": [
        "# Análise dos códigos de áreas\n",
        "df_falhas.groupby(['COD_AREA','TX_GRAVIDADE']).count()['DT_CRIACAO']"
      ]
    },
    {
      "cell_type": "code",
      "execution_count": null,
      "id": "9dc3aabc",
      "metadata": {
        "id": "9dc3aabc",
        "outputId": "29f4e43e-ac62-4ffe-da9d-5b0ec470bc80"
      },
      "outputs": [
        {
          "name": "stdout",
          "output_type": "stream",
          "text": [
            "ID_TIPO - 0 valores nulos\n",
            "Valor - 79 - 4806 - ocorrências - % Grv C-B-A sobre não nulos - 96.75 - 2.68 - 0.56 %\n",
            "Valor - 78 - 194 - ocorrências - % Grv C-B-A sobre não nulos - 86.6 - 6.7 - 6.7 %\n",
            "\n",
            "ID_SUBTIPO - 0 valores nulos\n",
            "Valor - 119 - 3792 - ocorrências - % Grv C-B-A sobre não nulos - 97.55 - 2.11 - 0.34 %\n",
            "Valor - 117 - 161 - ocorrências - % Grv C-B-A sobre não nulos - 88.2 - 4.35 - 7.45 %\n",
            "Valor - 115 - 429 - ocorrências - % Grv C-B-A sobre não nulos - 94.87 - 2.8 - 2.33 %\n",
            "Valor - 112 - 25 - ocorrências - % Grv C-B-A sobre não nulos - 80.0 - 16.0 - 4.0 %\n",
            "Valor - 118 - 544 - ocorrências - % Grv C-B-A sobre não nulos - 92.83 - 6.43 - 0.74 %\n",
            "Valor - 116 - 8 - ocorrências - % Grv C-B-A sobre não nulos - 75.0 - 25.0 - 0.0 %\n",
            "Valor - 135 - 33 - ocorrências - % Grv C-B-A sobre não nulos - 93.94 - 6.06 - 0.0 %\n",
            "Valor - 120 - 8 - ocorrências - % Grv C-B-A sobre não nulos - 100.0 - 0.0 - 0.0 %\n",
            "\n",
            "FL_ACIDENTE_TRAJETO - 4979 valores nulos\n",
            "Valor - 0.0 - 20 - ocorrências - % Grv C-B-A sobre não nulos - 75.0 - 20.0 - 5.0 %\n",
            "Valor - 1.0 - 1 - ocorrências - % Grv C-B-A sobre não nulos - 100.0 - 0.0 - 0.0 %\n",
            "\n",
            "FL_CLASSIFICACAO - 4975 valores nulos\n",
            "Valor - SPT - 18 - ocorrências - % Grv C-B-A sobre não nulos - 77.78 - 22.22 - 0.0 %\n",
            "Valor - CPT - 3 - ocorrências - % Grv C-B-A sobre não nulos - 66.67 - 0.0 - 33.33 %\n",
            "Valor - FAID - 4 - ocorrências - % Grv C-B-A sobre não nulos - 100.0 - 0.0 - 0.0 %\n",
            "\n",
            "FL_HORA_EXTRA - 16 valores nulos\n",
            "Valor - 0.0 - 4924 - ocorrências - % Grv C-B-A sobre não nulos - 96.39 - 2.8 - 0.81 %\n",
            "Valor - 1.0 - 60 - ocorrências - % Grv C-B-A sobre não nulos - 96.67 - 3.33 - 0.0 %\n",
            "\n",
            "FL_PARADA - 16 valores nulos\n",
            "Valor - 0.0 - 4575 - ocorrências - % Grv C-B-A sobre não nulos - 96.72 - 2.49 - 0.79 %\n",
            "Valor - 1.0 - 409 - ocorrências - % Grv C-B-A sobre não nulos - 92.67 - 6.36 - 0.98 %\n",
            "\n",
            "FL_PERDA_MATERIAL - 4975 valores nulos\n",
            "Valor - 0.0 - 25 - ocorrências - % Grv C-B-A sobre não nulos - 80.0 - 16.0 - 4.0 %\n",
            "\n",
            "FL_ROTINA - 16 valores nulos\n",
            "Valor - 1.0 - 3168 - ocorrências - % Grv C-B-A sobre não nulos - 97.16 - 1.93 - 0.92 %\n",
            "Valor - 0.0 - 1816 - ocorrências - % Grv C-B-A sobre não nulos - 95.04 - 4.35 - 0.61 %\n",
            "\n",
            "FL_ROTINA.1 - 16 valores nulos\n",
            "Valor - 1.0 - 3168 - ocorrências - % Grv C-B-A sobre não nulos - 97.16 - 1.93 - 0.92 %\n",
            "Valor - 0.0 - 1816 - ocorrências - % Grv C-B-A sobre não nulos - 95.04 - 4.35 - 0.61 %\n",
            "\n",
            "ID_CONDICOES_METEOROLOGICAS - 4889 valores nulos\n",
            "Valor - 8.0 - 85 - ocorrências - % Grv C-B-A sobre não nulos - 95.29 - 3.53 - 1.18 %\n",
            "Valor - 4.0 - 3 - ocorrências - % Grv C-B-A sobre não nulos - 100.0 - 0.0 - 0.0 %\n",
            "Valor - 5.0 - 18 - ocorrências - % Grv C-B-A sobre não nulos - 100.0 - 0.0 - 0.0 %\n",
            "Valor - 7.0 - 3 - ocorrências - % Grv C-B-A sobre não nulos - 100.0 - 0.0 - 0.0 %\n",
            "Valor - 3.0 - 1 - ocorrências - % Grv C-B-A sobre não nulos - 100.0 - 0.0 - 0.0 %\n",
            "Valor - 2.0 - 1 - ocorrências - % Grv C-B-A sobre não nulos - 100.0 - 0.0 - 0.0 %\n",
            "\n",
            "FL_TRAB_RESTRITO - 4997 valores nulos\n",
            "Valor - 0.0 - 3 - ocorrências - % Grv C-B-A sobre não nulos - 66.67 - 0.0 - 33.33 %\n",
            "\n",
            "TX_IDENTIFICACAO - 0 valores nulos\n",
            "Valor - P - 4658 - ocorrências - % Grv C-B-A sobre não nulos - 96.18 - 3.01 - 0.82 %\n",
            "Valor - T - 342 - ocorrências - % Grv C-B-A sobre não nulos - 98.83 - 0.58 - 0.58 %\n",
            "\n",
            "ID_CATEGORIA_FALHA - 4632 valores nulos\n",
            "Valor - 132.0 - 21 - ocorrências - % Grv C-B-A sobre não nulos - 95.24 - 0.0 - 4.76 %\n",
            "Valor - 130.0 - 18 - ocorrências - % Grv C-B-A sobre não nulos - 88.89 - 0.0 - 11.11 %\n",
            "Valor - 131.0 - 278 - ocorrências - % Grv C-B-A sobre não nulos - 97.48 - 1.08 - 1.44 %\n",
            "Valor - 56.0 - 42 - ocorrências - % Grv C-B-A sobre não nulos - 100.0 - 0.0 - 0.0 %\n",
            "Valor - 55.0 - 9 - ocorrências - % Grv C-B-A sobre não nulos - 88.89 - 11.11 - 0.0 %\n",
            "\n",
            "ID_CATEGORIA_FALHA.1 - 4632 valores nulos\n",
            "Valor - 132.0 - 21 - ocorrências - % Grv C-B-A sobre não nulos - 95.24 - 0.0 - 4.76 %\n",
            "Valor - 130.0 - 18 - ocorrências - % Grv C-B-A sobre não nulos - 88.89 - 0.0 - 11.11 %\n",
            "Valor - 131.0 - 278 - ocorrências - % Grv C-B-A sobre não nulos - 97.48 - 1.08 - 1.44 %\n",
            "Valor - 56.0 - 42 - ocorrências - % Grv C-B-A sobre não nulos - 100.0 - 0.0 - 0.0 %\n",
            "Valor - 55.0 - 9 - ocorrências - % Grv C-B-A sobre não nulos - 88.89 - 11.11 - 0.0 %\n",
            "\n",
            "ID_TIPO_CONTATO - 4678 valores nulos\n",
            "Valor - 4.0 - 24 - ocorrências - % Grv C-B-A sobre não nulos - 100.0 - 0.0 - 0.0 %\n",
            "Valor - 8.0 - 89 - ocorrências - % Grv C-B-A sobre não nulos - 92.13 - 4.49 - 3.37 %\n",
            "Valor - 7.0 - 19 - ocorrências - % Grv C-B-A sobre não nulos - 94.74 - 5.26 - 0.0 %\n",
            "Valor - 10.0 - 20 - ocorrências - % Grv C-B-A sobre não nulos - 100.0 - 0.0 - 0.0 %\n",
            "Valor - 3.0 - 38 - ocorrências - % Grv C-B-A sobre não nulos - 84.21 - 7.89 - 7.89 %\n",
            "Valor - 5.0 - 91 - ocorrências - % Grv C-B-A sobre não nulos - 86.81 - 5.49 - 7.69 %\n",
            "Valor - 6.0 - 19 - ocorrências - % Grv C-B-A sobre não nulos - 84.21 - 5.26 - 10.53 %\n",
            "Valor - 1.0 - 15 - ocorrências - % Grv C-B-A sobre não nulos - 100.0 - 0.0 - 0.0 %\n",
            "Valor - 2.0 - 7 - ocorrências - % Grv C-B-A sobre não nulos - 100.0 - 0.0 - 0.0 %\n",
            "\n",
            "ID_TEMPO_EMPRESA - 4975 valores nulos\n",
            "Valor - 8.0 - 7 - ocorrências - % Grv C-B-A sobre não nulos - 71.43 - 14.29 - 14.29 %\n",
            "Valor - 7.0 - 4 - ocorrências - % Grv C-B-A sobre não nulos - 100.0 - 0.0 - 0.0 %\n",
            "Valor - 9.0 - 5 - ocorrências - % Grv C-B-A sobre não nulos - 80.0 - 20.0 - 0.0 %\n",
            "Valor - 5.0 - 4 - ocorrências - % Grv C-B-A sobre não nulos - 75.0 - 25.0 - 0.0 %\n",
            "Valor - 6.0 - 1 - ocorrências - % Grv C-B-A sobre não nulos - 0.0 - 100.0 - 0.0 %\n",
            "Valor - 4.0 - 3 - ocorrências - % Grv C-B-A sobre não nulos - 100.0 - 0.0 - 0.0 %\n",
            "Valor - 2.0 - 1 - ocorrências - % Grv C-B-A sobre não nulos - 100.0 - 0.0 - 0.0 %\n",
            "\n",
            "ID_TEMPERATURA_AMBIENTE - 4869 valores nulos\n",
            "Valor - 3.0 - 89 - ocorrências - % Grv C-B-A sobre não nulos - 97.75 - 1.12 - 1.12 %\n",
            "Valor - 2.0 - 19 - ocorrências - % Grv C-B-A sobre não nulos - 84.21 - 10.53 - 5.26 %\n",
            "Valor - 4.0 - 16 - ocorrências - % Grv C-B-A sobre não nulos - 100.0 - 0.0 - 0.0 %\n",
            "Valor - 1.0 - 4 - ocorrências - % Grv C-B-A sobre não nulos - 100.0 - 0.0 - 0.0 %\n",
            "Valor - 5.0 - 2 - ocorrências - % Grv C-B-A sobre não nulos - 50.0 - 50.0 - 0.0 %\n",
            "Valor - 8.0 - 1 - ocorrências - % Grv C-B-A sobre não nulos - 100.0 - 0.0 - 0.0 %\n",
            "\n",
            "TX_GRAVIDADE - 0 valores nulos\n",
            "Valor - C - 4818 - ocorrências - % Grv C-B-A sobre não nulos - 100.0 - 0.0 - 0.0 %\n",
            "Valor - B - 142 - ocorrências - % Grv C-B-A sobre não nulos - 0.0 - 100.0 - 0.0 %\n",
            "Valor - A - 40 - ocorrências - % Grv C-B-A sobre não nulos - 0.0 - 0.0 - 100.0 %\n",
            "\n"
          ]
        }
      ],
      "source": [
        "#Análise da distribuição das taxas de gravidade pelas outras variáveis categóricas\n",
        "\n",
        "for j in ['ID_TIPO', 'ID_SUBTIPO', 'FL_ACIDENTE_TRAJETO', 'FL_CLASSIFICACAO',\n",
        "       'FL_HORA_EXTRA', 'FL_PARADA', 'FL_PERDA_MATERIAL', 'FL_ROTINA',\n",
        "       'FL_ROTINA.1', 'ID_CONDICOES_METEOROLOGICAS', 'FL_TRAB_RESTRITO',\n",
        "       'TX_IDENTIFICACAO', 'ID_CATEGORIA_FALHA', 'ID_CATEGORIA_FALHA.1',\n",
        "       'ID_TIPO_CONTATO', 'ID_TEMPO_EMPRESA',\n",
        "       'ID_TEMPERATURA_AMBIENTE', 'TX_GRAVIDADE']:\n",
        "    print(f\"{j} - {df_falhas[j].isna().sum()} valores nulos\")\n",
        "    for i in df_falhas[j].unique():\n",
        "        if not pd.isna(i):    \n",
        "            print(f\"Valor - {i} - {len(df_falhas[j][(df_falhas[j] == i)].isna())} - ocorrências - % Grv C-B-A sobre não nulos - {round(100*len(df_falhas[(df_falhas[j] == i) & (df_falhas['TX_GRAVIDADE'] == 'C')])/len(df_falhas[j][(df_falhas[j] == i)].isna()),2)} - {round(100*len(df_falhas[(df_falhas[j] == i) & (df_falhas['TX_GRAVIDADE'] == 'B')])/len(df_falhas[j][(df_falhas[j] == i)].isna()),2)} - {round(100*len(df_falhas[(df_falhas[j] == i) & (df_falhas['TX_GRAVIDADE'] == 'A')])/len(df_falhas[j][(df_falhas[j] == i)].isna()),2)} %\")\n",
        "    print('')\n",
        "            \n",
        "            "
      ]
    },
    {
      "cell_type": "code",
      "execution_count": null,
      "id": "ac138bac",
      "metadata": {
        "id": "ac138bac",
        "outputId": "b55faeba-1217-4678-90e8-be7e9ab2beec"
      },
      "outputs": [
        {
          "data": {
            "image/png": "[encoded data removed]",
            "text/plain": [
              "<Figure size 432x288 with 1 Axes>"
            ]
          },
          "metadata": {
            "needs_background": "light"
          },
          "output_type": "display_data"
        },
        {
          "data": {
            "image/png": "[encoded data removed]",
            "text/plain": [
              "<Figure size 432x288 with 1 Axes>"
            ]
          },
          "metadata": {
            "needs_background": "light"
          },
          "output_type": "display_data"
        },
        {
          "data": {
            "image/png": "[encoded data removed]",
            "text/plain": [
              "<Figure size 432x288 with 1 Axes>"
            ]
          },
          "metadata": {
            "needs_background": "light"
          },
          "output_type": "display_data"
        },
        {
          "data": {
            "image/png": "[encoded data removed]",
            "text/plain": [
              "<Figure size 432x288 with 1 Axes>"
            ]
          },
          "metadata": {
            "needs_background": "light"
          },
          "output_type": "display_data"
        },
        {
          "data": {
            "image/png": "[encoded data removed]",
            "text/plain": [
              "<Figure size 432x288 with 1 Axes>"
            ]
          },
          "metadata": {
            "needs_background": "light"
          },
          "output_type": "display_data"
        },
        {
          "data": {
            "image/png": "[encoded data removed]",
            "text/plain": [
              "<Figure size 432x288 with 1 Axes>"
            ]
          },
          "metadata": {
            "needs_background": "light"
          },
          "output_type": "display_data"
        },
        {
          "data": {
            "image/png": "[encoded data removed]",
            "text/plain": [
              "<Figure size 432x288 with 1 Axes>"
            ]
          },
          "metadata": {
            "needs_background": "light"
          },
          "output_type": "display_data"
        },
        {
          "data": {
            "image/png": "[encoded data removed]",
            "text/plain": [
              "<Figure size 432x288 with 1 Axes>"
            ]
          },
          "metadata": {
            "needs_background": "light"
          },
          "output_type": "display_data"
        },
        {
          "data": {
            "image/png": "[encoded data removed]",
            "text/plain": [
              "<Figure size 432x288 with 1 Axes>"
            ]
          },
          "metadata": {
            "needs_background": "light"
          },
          "output_type": "display_data"
        },
        {
          "data": {
            "image/png": "[encoded data removed]",
            "text/plain": [
              "<Figure size 432x288 with 1 Axes>"
            ]
          },
          "metadata": {
            "needs_background": "light"
          },
          "output_type": "display_data"
        },
        {
          "data": {
            "image/png": "[encoded data removed]",
            "text/plain": [
              "<Figure size 432x288 with 1 Axes>"
            ]
          },
          "metadata": {
            "needs_background": "light"
          },
          "output_type": "display_data"
        },
        {
          "data": {
            "image/png": "[encoded data removed]",
            "text/plain": [
              "<Figure size 432x288 with 1 Axes>"
            ]
          },
          "metadata": {
            "needs_background": "light"
          },
          "output_type": "display_data"
        },
        {
          "data": {
            "image/png": "[encoded data removed]",
            "text/plain": [
              "<Figure size 432x288 with 1 Axes>"
            ]
          },
          "metadata": {
            "needs_background": "light"
          },
          "output_type": "display_data"
        },
        {
          "data": {
            "image/png": "[encoded data removed]",
            "text/plain": [
              "<Figure size 432x288 with 1 Axes>"
            ]
          },
          "metadata": {
            "needs_background": "light"
          },
          "output_type": "display_data"
        },
        {
          "data": {
            "image/png": "[encoded data removed]",
            "text/plain": [
              "<Figure size 432x288 with 1 Axes>"
            ]
          },
          "metadata": {
            "needs_background": "light"
          },
          "output_type": "display_data"
        },
        {
          "data": {
            "image/png": "[encoded data removed]",
            "text/plain": [
              "<Figure size 432x288 with 1 Axes>"
            ]
          },
          "metadata": {
            "needs_background": "light"
          },
          "output_type": "display_data"
        },
        {
          "data": {
            "image/png": "[encoded data removed]",
            "text/plain": [
              "<Figure size 432x288 with 1 Axes>"
            ]
          },
          "metadata": {
            "needs_background": "light"
          },
          "output_type": "display_data"
        }
      ],
      "source": [
        "#Plotando gráficos com as distribuições de TX_GRAVIDADE para cada valor de cada feature categórica\n",
        "#Considerando apenas os valores que não são nulos\n",
        "\n",
        "for j in ['ID_TIPO', 'ID_SUBTIPO', 'FL_ACIDENTE_TRAJETO', 'FL_CLASSIFICACAO',\n",
        "       'FL_HORA_EXTRA', 'FL_PARADA', 'FL_PERDA_MATERIAL', 'FL_ROTINA',\n",
        "       'FL_ROTINA.1', 'ID_CONDICOES_METEOROLOGICAS', 'FL_TRAB_RESTRITO',\n",
        "       'TX_IDENTIFICACAO', 'ID_CATEGORIA_FALHA', 'ID_CATEGORIA_FALHA.1',\n",
        "       'ID_TIPO_CONTATO', 'ID_TEMPO_EMPRESA',\n",
        "       'ID_TEMPERATURA_AMBIENTE']:\n",
        "    d = {}   \n",
        "    for i in df_falhas[j].unique():\n",
        "        ind = []\n",
        "        if not pd.isna(i):\n",
        "            for g in ['A', 'B', 'C']:\n",
        "                ind.append(len(df_falhas[(df_falhas[j] == i) & (df_falhas['TX_GRAVIDADE'] == g)]))\n",
        "            d[i]=ind\n",
        "            \n",
        "    df_aux = pd.DataFrame(data = d, index = ['A', 'B', 'C'])\n",
        "    for c in df_aux.columns:\n",
        "        df_aux[c] = df_aux[c]/df_aux[c].sum()\n",
        "    \n",
        "    ax = df_aux.T.plot.barh(color=['red', 'yellow', 'green'], stacked=True, title=j) "
      ]
    },
    {
      "cell_type": "code",
      "execution_count": null,
      "id": "e09bd936",
      "metadata": {
        "id": "e09bd936"
      },
      "outputs": [],
      "source": [
        ""
      ]
    }
  ],
  "metadata": {
    "kernelspec": {
      "display_name": "Python 3",
      "language": "python",
      "name": "python3"
    },
    "language_info": {
      "codemirror_mode": {
        "name": "ipython",
        "version": 3
      },
      "file_extension": ".py",
      "mimetype": "text/x-python",
      "name": "python",
      "nbconvert_exporter": "python",
      "pygments_lexer": "ipython3",
      "version": "3.8.8"
    },
    "colab": {
      "name": "EDA_Falhas.ipynb",
      "provenance": [],
      "include_colab_link": true
    }
  },
  "nbformat": 4,
  "nbformat_minor": 5
}